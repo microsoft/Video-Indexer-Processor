{
 "cells": [
  {
   "cell_type": "code",
   "execution_count": null,
   "id": "6c7f3993",
   "metadata": {},
   "outputs": [],
   "source": [
    "\"\"\"\n",
    "Copyright (c) Microsoft Corporation.\n",
    "Licensed under the MIT license.\n",
    "\"\"\"\n",
    "from enrichment.entity_extractor.entity_extractor import EntityExtractor, EntityTypeConfig\n",
    "import enrichment.entity_extractor.utils as entity_extractor_utils\n",
    "from enrichment.metadata_parser.json_reader import json_reader\n",
    "from enrichment.metadata_parser.metadata_parser import MetadataParser\n",
    "from azure.storage.blob import BlobServiceClient\n"
   ]
  },
  {
   "cell_type": "code",
   "execution_count": null,
   "id": "17cfc51a",
   "metadata": {},
   "outputs": [],
   "source": [
    "# Preparation: loading the files in blob storage\n",
    "\n",
    "storage_account_name = 'datastoragestg9ki9'\n",
    "# key can be grabbed from https://portal.azure.com/#@waldosearch.onmicrosoft.com/resource/subscriptions/26ca8759-8cc8-49b7-9d4e-5ade3345bc0d/resourceGroups/rg-waldo-stg-9ki9-core/providers/Microsoft.Storage/storageAccounts/datastoragestg9ki9/keys\n",
    "account_storage_key = '' #insert storage key\n",
    "container_name = 'upload'\n",
    "\n",
    "connection_string = f\"DefaultEndpointsProtocol=https;AccountName={storage_account_name};AccountKey={account_storage_key};EndpointSuffix=core.windows.net\"\n",
    "service = BlobServiceClient.from_connection_string(conn_str=connection_string)\n",
    "container_client = service.get_container_client(container_name)\n",
    "\n",
    "all_files = list(container_client.list_blobs(name_starts_with='msr-vtt'))\n",
    "metadata_files = [x for x in all_files if 'json' in x['name']]"
   ]
  },
  {
   "cell_type": "code",
   "execution_count": null,
   "id": "4527582a",
   "metadata": {},
   "outputs": [],
   "source": [
    "# Let's analyze, for example, the first file\n",
    "file_name = metadata_files[0]['name']\n",
    "data = json_reader(container_client, file_name)\n",
    "parser = MetadataParser()\n",
    "parsed_data = parser.parse_metadata(data)\n",
    "parsed_data\n",
    "\n",
    "# Now, parsed_data is the parsed JSON file that will be the input to the NER client."
   ]
  },
  {
   "cell_type": "code",
   "execution_count": null,
   "id": "69f21a4c",
   "metadata": {},
   "outputs": [],
   "source": [
    "# Let's build and initialize the EntityExtractor object. \n",
    "ner_extractor = EntityExtractor()\n",
    "endpoint='https://eastus.api.cognitive.microsoft.com/'\n",
    "# key can be grabbed from: https://portal.azure.com/#@waldosearch.onmicrosoft.com/resource/subscriptions/26ca8759-8cc8-49b7-9d4e-5ade3345bc0d/resourceGroups/rg-waldo-stg-9ki9-ml/providers/Microsoft.CognitiveServices/accounts/textanalytics-stg-9ki9/cskeys\n",
    "key = '' # Insert key\n",
    "ner_extractor.initialize_client(endpoint, key)"
   ]
  },
  {
   "cell_type": "code",
   "execution_count": null,
   "id": "55c6984b",
   "metadata": {},
   "outputs": [],
   "source": [
    "# Each type of named entity needs to be configured separately.\n",
    "\n",
    "# For locations, we will be using a threshold of 0.9 as the minimum confidence for a named entity to be considered,\n",
    "# the elements in the video_locations field of the xml will be added unconditionally to the set of locations,\n",
    "# and elements that are substrings of others will be removed (e.g., \"Zurich\" and \"Zurich, Switzerland\" --> only \"Zurich, Switzerland\" will be left)\n",
    "locations_ner_config = EntityTypeConfig('Location', \n",
    "                                        threshold=0.9, \n",
    "                                        add_from_xml=['video_locations'],\n",
    "                                        remove_substrings=True)\n",
    "\n",
    "# For people, we will also use a threshold of 0.85,\n",
    "# and remove elements that are substrings of others (e.g., remove the family name if we already have the given and family names)\n",
    "people_ner_config = EntityTypeConfig('Person',\n",
    "                                    threshold=0.85,\n",
    "                                    remove_substrings=True)\n",
    "\n",
    "# For organizations, we do similarly than we did for people, but adding the field 'company_names' inconditionally.\n",
    "organizations_ner_config = EntityTypeConfig('Organization',\n",
    "                                           threshold=0.85,\n",
    "                                           add_from_xml=['company_names'],\n",
    "                                           remove_substrings=True)\n",
    "\n",
    "ner_extractor.initialize_entity_type_configs([locations_ner_config, people_ner_config, organizations_ner_config])"
   ]
  },
  {
   "cell_type": "code",
   "execution_count": null,
   "id": "ac3da773",
   "metadata": {},
   "outputs": [],
   "source": [
    "# Now we can perform the named entity recognition.\n",
    "# Please note that the function can receive more parameters, but in this case we're using their default values.\n",
    "ner_extractor.extract_entities(parsed_data)"
   ]
  },
  {
   "cell_type": "code",
   "execution_count": null,
   "id": "b40d6098",
   "metadata": {},
   "outputs": [],
   "source": []
  }
 ],
 "metadata": {
  "interpreter": {
   "hash": "949777d72b0d2535278d3dc13498b2535136f6dfe0678499012e853ee9abcab1"
  },
  "kernelspec": {
   "display_name": "Python 3.9.12 64-bit",
   "language": "python",
   "name": "python3"
  },
  "language_info": {
   "codemirror_mode": {
    "name": "ipython",
    "version": 3
   },
   "file_extension": ".py",
   "mimetype": "text/x-python",
   "name": "python",
   "nbconvert_exporter": "python",
   "pygments_lexer": "ipython3",
   "version": "3.9.12"
  }
 },
 "nbformat": 4,
 "nbformat_minor": 5
}
