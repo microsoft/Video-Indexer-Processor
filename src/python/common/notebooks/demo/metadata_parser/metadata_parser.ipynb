{
 "cells": [
  {
   "cell_type": "markdown",
   "metadata": {},
   "source": [
    "# Parse Video Metadata Files\n",
    "\n",
    "The WALDO video search tool enables users to index any type of video content and search it with AI assistance.\n",
    "There are 2 requirements for each video you wish to index:\n",
    "1. A video file with resolution 720p and higher\n",
    "2. A metadata file containing information on the provided video file. \n",
    "\n",
    "In this notebook we will parse raw metadata files (JSON format) to validate that all infromation is inplace for successful video indexing.<br>\n",
    "Parsed files are stored in the **silver** storage container and used later for video processing.\n",
    "\n",
    "<hr />\n",
    "\n",
    "#### What is in this notebook?\n",
    "1. Connect to Azure Blob Storage which contains the videos and metadata files\n",
    "2. Read JSON file from Blob Storage\n",
    "3. Parse the files with MetadataParser class and inspect results.\n",
    "\n",
    "#### What is the MetadataParser class?\n",
    "This class iterate over provdied JSONs and make sure that all information for video processing is in place.\n",
    "The mandatory key list can be found [enrichment/metadata_parser/assets/static.py](/workspaces/Waldo/src/python/common/enrichment/metadata_parser/assets/static.py)\n",
    "##### Examples for keys:\n",
    "1. `matching_video_name` - Name of the video file matching the metadata file\n",
    "2. `video_description` - video annotation or a short description\n",
    "3. `video_languages` - To assure maximal audio transcription results, it's best to provide the video language. If you are not sure of the language, Video Indexer will identify it for you.\n",
    "4. `data_source` - Assures that all videos from the same collection/catalogue are stored in the same location\n",
    "\n",
    "#### Exceptions\n",
    "The code will throw and exception when the `matching_video_name` key is missing in the JSON.\n",
    "This is due to the fact that we can't connect the metadata file to the relevant video file."
   ]
  },
  {
   "cell_type": "markdown",
   "metadata": {},
   "source": [
    "----------------"
   ]
  },
  {
   "cell_type": "markdown",
   "metadata": {},
   "source": [
    "#### Parse metadata files from a data_source named `msr-vtt`. \n",
    "The following enviroment variables are needed in order to connect to your Blob Storage account:\n",
    "\n",
    "1. `WALDO_STORAGE_ACCOUNT_NAME` - Name of Blob Storage account where videos and metadata are hosted.\n",
    "2. `WALDO_UPLOAD_STORAGE_KEY` - Blob Storage account access key.\n",
    "3. `WALDO_CONTAINER_NAME` - Container name where the blobs are hosted."
   ]
  },
  {
   "cell_type": "code",
   "execution_count": 17,
   "metadata": {},
   "outputs": [],
   "source": [
    "\"\"\"\n",
    "Copyright (c) Microsoft Corporation.\n",
    "Licensed under the MIT license.\n",
    "\"\"\"\n",
    "from azure.storage.blob import BlobServiceClient\n",
    "from enrichment.metadata_parser.json_reader import json_reader\n",
    "import os\n",
    "from dotenv import load_dotenv\n",
    "\n",
    "# load env variables from local .env file\n",
    "load_dotenv()\n",
    "\n",
    "data_source = 'msr-vtt'\n",
    "\n",
    "storage_account_name = os.getenv('WALDO_STORAGE_ACCOUNT_NAME')\n",
    "account_storage_key = os.getenv('WALDO_UPLOAD_STORAGE_KEY')\n",
    "container_name = os.getenv('WALDO_CONTAINER_NAME')\n",
    "\n",
    "# connect to storage container\n",
    "connection_string = f\"DefaultEndpointsProtocol=https;AccountName={storage_account_name};AccountKey={account_storage_key};EndpointSuffix=core.windows.net\"\n",
    "service = BlobServiceClient.from_connection_string(conn_str=connection_string)\n",
    "container_client = service.get_container_client(container_name)"
   ]
  },
  {
   "cell_type": "code",
   "execution_count": null,
   "metadata": {},
   "outputs": [],
   "source": [
    "\n",
    "# Get all files and storage and filter videos and XML files separately\n",
    "data_source_files = list(container_client.list_blobs(name_starts_with  = f'{data_source}/'))\n",
    "video_files =  [x['name'] for x in data_source_files if x['name'].lower().endswith((\"mov\",\"mp4\"))]\n",
    "metadata_files =  [x['name'] for x in data_source_files if x['name'].lower().endswith(\"json\")]\n",
    "print(f' we got {len(metadata_files)} xml files and {len(video_files)} video files')\n"
   ]
  },
  {
   "cell_type": "code",
   "execution_count": null,
   "metadata": {},
   "outputs": [],
   "source": [
    "# Read the Json metadata file\n",
    "from enrichment.metadata_parser.json_reader import json_reader\n",
    "file_to_read = metadata_files[25]\n",
    "data = json_reader(container_client, file_to_read)"
   ]
  },
  {
   "cell_type": "code",
   "execution_count": null,
   "metadata": {},
   "outputs": [],
   "source": [
    "from enrichment.metadata_parser.metadata_parser import *\n",
    "\n",
    "parser  = MetadataParser()\n",
    "parsed_data = parser.parse_metadata(data)\n",
    "parsed_data"
   ]
  },
  {
   "cell_type": "markdown",
   "metadata": {},
   "source": [
    "# View Available Keys"
   ]
  },
  {
   "cell_type": "code",
   "execution_count": null,
   "metadata": {},
   "outputs": [],
   "source": [
    "print(parsed_data.keys())"
   ]
  },
  {
   "cell_type": "markdown",
   "metadata": {},
   "source": [
    "## Check out language to use for Video Indexer upload"
   ]
  },
  {
   "cell_type": "code",
   "execution_count": null,
   "metadata": {},
   "outputs": [],
   "source": [
    "parsed_data['video_languages'], parsed_data['language_codes']"
   ]
  },
  {
   "cell_type": "markdown",
   "metadata": {},
   "source": [
    "### Videos should be uploaded to Video Indexer using the `video_hash_id` as key since we have a limitation of 80 characters.\n",
    "The original name can be uploaded using the `description` field"
   ]
  },
  {
   "cell_type": "code",
   "execution_count": null,
   "metadata": {},
   "outputs": [],
   "source": [
    "parsed_data['video_hash_id']"
   ]
  },
  {
   "cell_type": "code",
   "execution_count": null,
   "metadata": {},
   "outputs": [],
   "source": []
  }
 ],
 "metadata": {
  "kernelspec": {
   "display_name": "Python 3.9.12 64-bit",
   "language": "python",
   "name": "python3"
  },
  "language_info": {
   "codemirror_mode": {
    "name": "ipython",
    "version": 3
   },
   "file_extension": ".py",
   "mimetype": "text/x-python",
   "name": "python",
   "nbconvert_exporter": "python",
   "pygments_lexer": "ipython3",
   "version": "3.9.12"
  },
  "vscode": {
   "interpreter": {
    "hash": "949777d72b0d2535278d3dc13498b2535136f6dfe0678499012e853ee9abcab1"
   }
  }
 },
 "nbformat": 4,
 "nbformat_minor": 2
}
