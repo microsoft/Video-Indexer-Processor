{
 "cells": [
  {
   "cell_type": "markdown",
   "id": "50eec40d",
   "metadata": {},
   "source": [
    "# Create Azure Search Index"
   ]
  },
  {
   "cell_type": "markdown",
   "id": "00b8925c",
   "metadata": {},
   "source": [
    "## In order to create an index in Azure Search, we need to run 3 main steps\n",
    "1. To create a connection to a Data Source which will store the document we want to index \n",
    "2. Create an index which will contain the schema we need\n",
    "3. Create an indexer which will be responsible for running and maintaining the index"
   ]
  },
  {
   "cell_type": "code",
   "execution_count": 1,
   "id": "1c773482",
   "metadata": {},
   "outputs": [],
   "source": [
    "\"\"\"\n",
    "Copyright (c) Microsoft Corporation.\n",
    "Licensed under the MIT license.\n",
    "\"\"\"\n",
    "# import dependencies\n",
    "import os\n",
    "import json\n",
    "from requests import post, put \n",
    "import pandas as pd\n",
    "\n",
    "from azure.core.credentials import AzureKeyCredential\n",
    "from azure.search.documents.indexes import SearchIndexClient \n",
    "from azure.search.documents import SearchClient\n",
    "from azure.search.documents.indexes.models import (\n",
    "    ComplexField,\n",
    "    CorsOptions,\n",
    "    SearchIndex,\n",
    "    ScoringProfile,\n",
    "    SearchFieldDataType,\n",
    "    SimpleField,\n",
    "    SearchableField\n",
    ")"
   ]
  },
  {
   "cell_type": "markdown",
   "id": "61d6d979",
   "metadata": {},
   "source": [
    "## Setting Env Variables untill the bash script is ready"
   ]
  },
  {
   "cell_type": "code",
   "execution_count": 22,
   "id": "72d76eaf",
   "metadata": {},
   "outputs": [],
   "source": [
    "os.environ[\"STG_ACS_RESOURCE_NAME\"] = \"search-stg-9ki9\"\n",
    "os.environ[\"STG_ACS_RESOURCE_KEY\"] = \"\" \n",
    "os.environ[\"STG_COSMOS_RESOURCE_NAME\"] = \"cosmosdb-stg-9ki9\"\n",
    "os.environ[\"STG_COSMOS_KEY\"] = \"\" "
   ]
  },
  {
   "cell_type": "code",
   "execution_count": 3,
   "id": "fb6a3a81",
   "metadata": {},
   "outputs": [],
   "source": [
    "#search service connection info\n",
    "azure_search_service = os.environ.get('STG_ACS_RESOURCE_NAME')\n",
    "admin_key = os.environ.get('STG_ACS_RESOURCE_KEY') \n",
    "cosmos_resource = os.environ.get('STG_COSMOS_RESOURCE_NAME')\n",
    "cosmos_key = os.environ.get('STG_COSMOS_KEY') "
   ]
  },
  {
   "cell_type": "markdown",
   "id": "ed762699",
   "metadata": {},
   "source": [
    "### 1. Generate The Data Source object. In our case it's a connection to CosmosDB"
   ]
  },
  {
   "cell_type": "code",
   "execution_count": 7,
   "id": "b1cc45f4",
   "metadata": {},
   "outputs": [],
   "source": [
    "# configure variables\n",
    "API_VERSION = \"2021-04-30-Preview\"\n",
    "cosmos_container = 'insights'\n",
    "cosmos_data_source_name = 'waldo-cosmosdb-datasource'\n",
    "database = 'waldo'\n",
    "data_source_index = {\n",
    "  \"@odata.context\": f\"https://{azure_search_service}.search.windows.net/$metadata#datasources/$entity\",\n",
    "  \"@odata.etag\": \"\\\"0x8DA4566CD803FB3\\\"\",\n",
    "  \"name\": cosmos_data_source_name,\n",
    "  \"description\": \"Platinum data source containing searchable documents for videos\",\n",
    "  \"type\": \"cosmosdb\",\n",
    "  \"subtype\": None,\n",
    "  \"credentials\": {\n",
    "    \"connectionString\": f\"AccountEndpoint=https://{cosmos_resource}.documents.azure.com;AccountKey={cosmos_key};Database={database};\"\n",
    "  },\n",
    "  \"container\": {\n",
    "    \"name\": cosmos_container,\n",
    "    \"query\": None\n",
    "  },\n",
    "  \"dataChangeDetectionPolicy\": {\n",
    "    \"@odata.type\": \"#Microsoft.Azure.Search.HighWaterMarkChangeDetectionPolicy\",\n",
    "    \"highWaterMarkColumnName\": \"_ts\"\n",
    "    },\n",
    "  \"dataDeletionDetectionPolicy\": None,\n",
    "  \"encryptionKey\": None,\n",
    "  \"identity\": None\n",
    "}"
   ]
  },
  {
   "cell_type": "code",
   "execution_count": 8,
   "id": "79fa3222",
   "metadata": {},
   "outputs": [],
   "source": [
    "def request_to_azure_search(json_file, feature, name=\"\", api_version='2021-04-30-Preview'):\n",
    "    \"\"\"\n",
    "        This Funcions Creates a Rest Call to Azure search indexer with multiple endpoints\n",
    "        * index - to create a new Index based on configuration\n",
    "        * indexers - create a new Indexer based on configuration\n",
    "        * datasources - create a new DataSource based on configuration\n",
    "\n",
    "    Args:\n",
    "        json_file (_type_): configuation to pass with the call\n",
    "        feature (_type_): type of endpoint to execute\n",
    "        name (str, optional): Name of the operation to pass. Defaults to \"\".\n",
    "        api_version (str, optional): API version to use in calls. Defaults to '2021-04-30-Preview'.\n",
    "    \"\"\"\n",
    "    \n",
    "    headers = {\n",
    "    \"api-key\": admin_key,     \n",
    "    \"Content-Type\": \"application/json\",\n",
    "\n",
    "    }\n",
    "    endpoint = f\"https://{azure_search_service}.search.windows.net/\".format(azure_search_service)\n",
    "\n",
    "    if (name==\"\"): name = json_file['name']\n",
    "    try:\n",
    "        url = endpoint +\"/\" + feature + f\"?api-version={api_version}\"\n",
    "        resp = post(url=url, json=json_file, headers=headers)\n",
    "\n",
    "        if resp.status_code == 403:\n",
    "            print(\"Authorisation Failed: Check that your API KEY value is correct\")\n",
    "\n",
    "        if resp.status_code == 400:\n",
    "            print(f\"Error\", resp.text)    \n",
    "\n",
    "        if resp.status_code == 201:\n",
    "            print(f\"Success creating {feature}\" + name)\n",
    "\n",
    "    except Exception as e:\n",
    "        print(f'Exception creating {feature} ' +  name, e, resp.status_code)"
   ]
  },
  {
   "cell_type": "markdown",
   "id": "1c585254",
   "metadata": {},
   "source": [
    "#### Call to create Data Source"
   ]
  },
  {
   "cell_type": "code",
   "execution_count": 9,
   "id": "3dbce456",
   "metadata": {},
   "outputs": [
    {
     "name": "stdout",
     "output_type": "stream",
     "text": [
      "Success creating datasourceswaldo-cosmosdb-datasource\n"
     ]
    }
   ],
   "source": [
    "try:\n",
    "    request_to_azure_search(data_source_index, feature=\"datasources\")\n",
    "except Exception as e:\n",
    "    print(e)"
   ]
  },
  {
   "cell_type": "markdown",
   "id": "8585ab44",
   "metadata": {},
   "source": [
    "### 2. Let's create an index using a pre-configured schema.\n",
    "The key in this index is `videoId`, which is the unique identifier returned by VI. "
   ]
  },
  {
   "cell_type": "code",
   "execution_count": 10,
   "id": "71328e72",
   "metadata": {},
   "outputs": [],
   "source": [
    "## Read json file\n",
    "def load_json_file (filename):\n",
    "    with open(filename) as f:\n",
    "        parsed_file = json.loads(f.read())\n",
    "    return parsed_file"
   ]
  },
  {
   "cell_type": "markdown",
   "id": "75e64ae3",
   "metadata": {},
   "source": [
    "#### Call the create the index"
   ]
  },
  {
   "cell_type": "code",
   "execution_count": 12,
   "id": "7603cf1c",
   "metadata": {},
   "outputs": [
    {
     "name": "stdout",
     "output_type": "stream",
     "text": [
      "Success creating indexeswaldo-v1-videos\n"
     ]
    }
   ],
   "source": [
    "index_json_content = load_json_file('src/python/common/enrichment/search_index_creation/media_enrichment_index_schema.json')\n",
    "granularity = 'videos' # other options maybe ['shots','scenes','videos']\n",
    "index_json_content['name'] = index_json_content['name'] + '-v1-' + granularity\n",
    "\n",
    "try:\n",
    "    request_to_azure_search(index_json_content, feature=\"indexes\")\n",
    "except Exception as e:\n",
    "    print(e)"
   ]
  },
  {
   "cell_type": "markdown",
   "id": "a7c1c620",
   "metadata": {},
   "source": [
    "### 3. Let's create the indexer and to read new documents from the Data Source\n",
    "We'll set incremental load to every 5 minutes.\n",
    "Every document with the same document id i.e `videoId`, will be updated in the index, all new documents will be inserted"
   ]
  },
  {
   "cell_type": "code",
   "execution_count": 13,
   "id": "12cef653",
   "metadata": {},
   "outputs": [
    {
     "name": "stdout",
     "output_type": "stream",
     "text": [
      "indexer-waldo-v1-videos-5m\n"
     ]
    }
   ],
   "source": [
    "indexer_name = f\"indexer-{index_json_content['name']}-5m\"\n",
    "print(indexer_name)\n",
    "first_index_date = \"2022-07-24T00:00:00.048Z\"\n",
    "\n",
    "indexer_config = {\n",
    "  \"@odata.context\": f\"https://{azure_search_service}.search.windows.net/$metadata#indexers/$entity\",\n",
    "  \"@odata.etag\": \"\\\"0x8DA478D2D0D1A4A\\\"\",\n",
    "  \"name\": indexer_name,\n",
    "  \"description\": \"5 minute incremental indexer on CosmosDB\",\n",
    "  \"dataSourceName\": cosmos_data_source_name,\n",
    "  \"skillsetName\": None,\n",
    "  \"targetIndexName\": index_json_content['name'],\n",
    "  \"disabled\": None,\n",
    "  \"schedule\": {\n",
    "    \"interval\": \"PT5M\",\n",
    "    \"startTime\": first_index_date\n",
    "  },\n",
    "  \"parameters\": {\n",
    "    \"batchSize\": None,\n",
    "    \"maxFailedItems\": None,\n",
    "    \"maxFailedItemsPerBatch\": None,\n",
    "    \"base64EncodeKeys\": None,\n",
    "    \"configuration\": {}\n",
    "  },\n",
    "  \"fieldMappings\": [],\n",
    "  \"outputFieldMappings\": [],\n",
    "  \"cache\": None,\n",
    "  \"encryptionKey\": None\n",
    "}"
   ]
  },
  {
   "cell_type": "markdown",
   "id": "407ab49a",
   "metadata": {},
   "source": [
    "#### Call to create incremental indexer"
   ]
  },
  {
   "cell_type": "code",
   "execution_count": 14,
   "id": "909273f5",
   "metadata": {},
   "outputs": [
    {
     "name": "stdout",
     "output_type": "stream",
     "text": [
      "Success creating indexersindexer-waldo-v1-videos-5m\n"
     ]
    }
   ],
   "source": [
    "try:\n",
    "    request_to_azure_search(indexer_config, feature=\"indexers\")\n",
    "except Exception as e:\n",
    "    print(e)"
   ]
  },
  {
   "cell_type": "markdown",
   "id": "e2e44fbc",
   "metadata": {},
   "source": [
    "### 4. Add index Alias to allow Index dropping without downtime\n",
    "!! you can't drop an index before you delete the alias itself"
   ]
  },
  {
   "cell_type": "code",
   "execution_count": 16,
   "id": "a144918a",
   "metadata": {},
   "outputs": [
    {
     "data": {
      "text/plain": [
       "{'name': 'alias-waldo-videos', 'indexes': ['waldo-v1-videos']}"
      ]
     },
     "execution_count": 16,
     "metadata": {},
     "output_type": "execute_result"
    }
   ],
   "source": [
    "alias_configuration = {\n",
    "    \"name\": f\"alias-waldo-{granularity}\",\n",
    "    \"indexes\": [index_json_content['name']]\n",
    "}\n",
    "alias_configuration"
   ]
  },
  {
   "cell_type": "code",
   "execution_count": 21,
   "id": "744d46a4",
   "metadata": {},
   "outputs": [
    {
     "name": "stdout",
     "output_type": "stream",
     "text": [
      "Success creating aliasesalias-waldo-videos\n"
     ]
    }
   ],
   "source": [
    "try:\n",
    "    request_to_azure_search(alias_configuration, feature=\"aliases\")\n",
    "except Exception as e:\n",
    "    print(e)"
   ]
  },
  {
   "cell_type": "markdown",
   "id": "332d776a",
   "metadata": {},
   "source": [
    "## Delete an Alias"
   ]
  },
  {
   "cell_type": "code",
   "execution_count": 20,
   "id": "59b5e165",
   "metadata": {},
   "outputs": [],
   "source": [
    "\n",
    "import requests\n",
    "headers = {\n",
    "    \"api-key\": admin_key,     \n",
    "    \"Content-Type\": \"application/json\",\n",
    "\n",
    "    }\n",
    "alias_name = alias_configuration['name']\n",
    "endpoint = f\"https://{azure_search_service}.search.windows.net/\".format(azure_search_service)\n",
    "url = endpoint +f\"aliases/{alias_name}\" +f\"?api-version={API_VERSION}\"\n",
    "resp = requests.delete(url=url,  headers=headers)"
   ]
  },
  {
   "cell_type": "code",
   "execution_count": 19,
   "id": "077f2124",
   "metadata": {},
   "outputs": [
    {
     "data": {
      "text/plain": [
       "<Response [204]>"
      ]
     },
     "execution_count": 19,
     "metadata": {},
     "output_type": "execute_result"
    }
   ],
   "source": [
    "resp"
   ]
  },
  {
   "cell_type": "code",
   "execution_count": null,
   "id": "d0cb5eab",
   "metadata": {},
   "outputs": [],
   "source": []
  }
 ],
 "metadata": {
  "kernelspec": {
   "display_name": "Python 3",
   "language": "python",
   "name": "python3"
  },
  "language_info": {
   "codemirror_mode": {
    "name": "ipython",
    "version": 3
   },
   "file_extension": ".py",
   "mimetype": "text/x-python",
   "name": "python",
   "nbconvert_exporter": "python",
   "pygments_lexer": "ipython3",
   "version": "3.10.5"
  },
  "vscode": {
   "interpreter": {
    "hash": "c10a2a6bb51805b3f2c7da176b506728fcd4842ded6c1f89423002188fd8bedf"
   }
  }
 },
 "nbformat": 4,
 "nbformat_minor": 5
}
